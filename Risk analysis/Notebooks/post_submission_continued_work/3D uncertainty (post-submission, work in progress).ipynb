{
 "cells": [
  {
   "cell_type": "code",
   "execution_count": 1,
   "metadata": {},
   "outputs": [
    {
     "name": "stderr",
     "output_type": "stream",
     "text": [
      "/home/bl9/gempy/gempy/plotting/visualization.py:36: UserWarning: Steno 3D package is not installed. No 3D online visualization available.\n",
      "  warnings.warn('Steno 3D package is not installed. No 3D online visualization available.')\n"
     ]
    }
   ],
   "source": [
    "import sys\n",
    "#sys.path.append('C:/Users/Fabian/gempy')\n",
    "sys.path.insert(1,'/home/bl9/gempy')\n",
    "import gempy as gp"
   ]
  },
  {
   "cell_type": "code",
   "execution_count": 2,
   "metadata": {
    "collapsed": true
   },
   "outputs": [],
   "source": [
    "%matplotlib inline\n",
    "import pymc\n",
    "import numpy as np\n",
    "import math\n",
    "\n",
    "from IPython.core.display import Image\n",
    "\n",
    "from pymc.Matplot import plot\n",
    "from pymc import graph\n",
    "\n",
    "from IPython.core.pylabtools import figsize\n",
    "figsize(15, 6)\n",
    "\n",
    "import scipy.optimize as sop\n",
    "import scipy.stats as stats\n",
    "from scipy.signal import argrelextrema\n",
    "\n",
    "import matplotlib.mlab as mlab\n",
    "from matplotlib import pyplot as plt\n",
    "\n",
    "import importlib\n",
    "\n",
    "from operator import itemgetter\n",
    "\n",
    "from mpl_toolkits.mplot3d import Axes3D\n",
    "\n",
    "import vtk\n",
    "import evtk\n",
    "\n",
    "from scipy.interpolate import griddata\n",
    "\n",
    "import decision_making as dm"
   ]
  },
  {
   "cell_type": "code",
   "execution_count": 3,
   "metadata": {
    "collapsed": true
   },
   "outputs": [],
   "source": [
    "import gempy.utils.spill_analysis as sp\n",
    "import gempy.utils.fault_analysis as fa"
   ]
  },
  {
   "cell_type": "code",
   "execution_count": 4,
   "metadata": {},
   "outputs": [],
   "source": [
    "# Importing the data from csv files and setting extent and resolution\n",
    "geo_data = gp.create_data([0,2000,0,2000,0,2000],[50,50,50],\n",
    "                         path_o = \".././input_data/Fab_ResModel_Foliations2.csv\",\n",
    "                        path_i = \".././input_data/Fab_ResModel_Points4_small_offset.csv\")\n",
    "                         #path_i = \".././input_data/Fab_ResModel_finite_fault.csv\")\n",
    "geo_data.n_faults = 1"
   ]
  },
  {
   "cell_type": "code",
   "execution_count": 5,
   "metadata": {
    "collapsed": true
   },
   "outputs": [],
   "source": [
    "#p.get_data(geo_data)"
   ]
  },
  {
   "cell_type": "code",
   "execution_count": 6,
   "metadata": {},
   "outputs": [],
   "source": [
    "gp.set_series(geo_data, {\"fault\":'MainFault', \n",
    "                      \"Rest\":('Base_Top', 'Res_Top', 'Seal_Top', 'SecRes_Top')},\n",
    "                       order_series = [\"fault\",\"Rest\",], order_formations=['MainFault', \n",
    "                                         'SecRes_Top', 'Seal_Top', 'Res_Top','Base_Top',\n",
    "                                         ])"
   ]
  },
  {
   "cell_type": "code",
   "execution_count": 7,
   "metadata": {},
   "outputs": [
    {
     "data": {
      "image/png": "[encoded data removed]",
      "text/plain": [
       "<Figure size 360x360 with 1 Axes>"
      ]
     },
     "metadata": {},
     "output_type": "display_data"
    }
   ],
   "source": [
    "figsize(20,10)\n",
    "#plt.savefig('points.pdf', transparent=True)\n",
    "gp.plotting.plot_data(geo_data, direction='x')"
   ]
  },
  {
   "cell_type": "code",
   "execution_count": 8,
   "metadata": {
    "collapsed": true
   },
   "outputs": [],
   "source": [
    "# Creating a row label 'fault side' to distinguish between footwall (FW) and hanging wall (HW)\n",
    "def set_fault_sides(geo_data, fault_border, fault_name):\n",
    "    geo_data.interfaces['fault side'] = 'nan'\n",
    "    HW_border = fault_border # distance of middle of fault (border HW/FW) from footwall border of model\n",
    "                # (X = 2000 - 1300 = 700)\n",
    "    nonfault_cond = geo_data.interfaces['formation'] != fault_name\n",
    "    fault_cond = geo_data.interfaces['formation'] == fault_name\n",
    "\n",
    "    fw_x_cond = geo_data.interfaces['X'] > (geo_data.extent[:2][1] - HW_border) # condition for FW points\n",
    "\n",
    "    hw_x_cond = geo_data.interfaces['X'] < (geo_data.extent[:2][1] - HW_border) # condition for HW points\n",
    "\n",
    "    geo_data.interfaces.loc[fw_x_cond,'fault side'] = 'footwall' # setting FW\n",
    "    geo_data.interfaces.loc[hw_x_cond,'fault side'] = 'hanging wall' #setting HW\n",
    "    geo_data.interfaces.loc[fault_cond,'fault side'] = 'nan'; # reverting fault points to 'nan'\n",
    "    return geo_data"
   ]
  },
  {
   "cell_type": "code",
   "execution_count": 9,
   "metadata": {
    "collapsed": true
   },
   "outputs": [],
   "source": [
    "geo_data = set_fault_sides(geo_data, 1300, 'MainFault')"
   ]
  },
  {
   "cell_type": "code",
   "execution_count": 10,
   "metadata": {},
   "outputs": [
    {
     "name": "stdout",
     "output_type": "stream",
     "text": [
      "Compiling theano function...\n",
      "Compilation Done!\n",
      "Level of Optimization:  fast_compile\n",
      "Device:  cpu\n",
      "Precision:  float64\n",
      "Number of faults:  1\n"
     ]
    }
   ],
   "source": [
    "# INTERPOLATION\n",
    "interp_data = gp.InterpolatorData(geo_data, u_grade = [1, 1], output='gradients', dtype ='float64',\n",
    "                                 compile_theano=True)"
   ]
  },
  {
   "cell_type": "code",
   "execution_count": 12,
   "metadata": {
    "collapsed": true
   },
   "outputs": [],
   "source": [
    "#interp_data.interpolator.tg.inf_factor.set_value(np.zeros(7, dtype='int32'))\n",
    "#interp_data.interpolator.tg.inf_factor.get_value()"
   ]
  },
  {
   "cell_type": "code",
   "execution_count": 14,
   "metadata": {
    "scrolled": true
   },
   "outputs": [],
   "source": [
    "\n",
    "# COMPUTATION OF THE MODEL\n",
    "lith_sol, fault_sol = gp.compute_model(interp_data)"
   ]
  },
  {
   "cell_type": "code",
   "execution_count": 15,
   "metadata": {
    "collapsed": true
   },
   "outputs": [],
   "source": [
    "# Arrays to hold the original compuation of the model\n",
    "# These is used in case of computation failure (singular matrix) during modeling under uncertainty\n",
    "lith_holder = lith_sol\n",
    "fault_holder = fault_sol\n",
    "interp_holder = interp_data\n",
    "\n",
    "#lith_block = np.round(lith_sol[0]).reshape(geo_data.resolution[0],\n",
    "#                                     geo_data.resolution[1],geo_data.resolution[2])\n",
    "#\n",
    "##fault_block = fault_sol[0].astype(int).reshape(geo_data.resolution[0],\n",
    "##                                     geo_data.resolution[1],geo_data.resolution[2])\n",
    "#fault_block_0 = np.round(fault_sol[0])#.astype(int)\n",
    "#fault_block = fault_block_0.reshape(geo_data.resolution[0],\n",
    "#                                     geo_data.resolution[1],geo_data.resolution[2])"
   ]
  },
  {
   "cell_type": "code",
   "execution_count": 11,
   "metadata": {
    "collapsed": true
   },
   "outputs": [],
   "source": [
    "# Geo formation numbers\n",
    "base_n = geo_data.formations.loc['basement','formation_number']\n",
    "res_n = geo_data.formations.loc['Base_Top','formation_number']\n",
    "seal_n = geo_data.formations.loc['Res_Top','formation_number']\n",
    "secres_n = geo_data.formations.loc['Seal_Top','formation_number']\n",
    "over_n = geo_data.formations.loc['SecRes_Top','formation_number']\n",
    "fault_n = geo_data.formations.loc['MainFault','formation_number']"
   ]
  },
  {
   "cell_type": "code",
   "execution_count": 12,
   "metadata": {},
   "outputs": [
    {
     "ename": "NameError",
     "evalue": "name 'lith_sol' is not defined",
     "output_type": "error",
     "traceback": [
      "\u001b[0;31m---------------------------------------------------------------------------\u001b[0m",
      "\u001b[0;31mNameError\u001b[0m                                 Traceback (most recent call last)",
      "\u001b[0;32m<ipython-input-12-5c430e5c4fda>\u001b[0m in \u001b[0;36m<module>\u001b[0;34m()\u001b[0m\n\u001b[1;32m      1\u001b[0m \u001b[0;31m# CREATING SURFACES FOR LAYER INTERFACES (vertices and simplices; interfaces named as bottoms of layers)\u001b[0m\u001b[0;34m\u001b[0m\u001b[0;34m\u001b[0m\u001b[0m\n\u001b[0;32m----> 2\u001b[0;31m res_surf_v, res_surf_s = gp.get_surfaces(interp_data = interp_data, potential_lith=lith_sol[1], \n\u001b[0m\u001b[1;32m      3\u001b[0m                                          potential_fault=None, n_formation = res_n)\n\u001b[1;32m      4\u001b[0m seal_surf_v, seal_surf_s = gp.get_surfaces(interp_data = interp_data, potential_lith=lith_sol[1], \n\u001b[1;32m      5\u001b[0m                                            potential_fault=None, n_formation = seal_n)\n",
      "\u001b[0;31mNameError\u001b[0m: name 'lith_sol' is not defined"
     ]
    }
   ],
   "source": [
    "# CREATING SURFACES FOR LAYER INTERFACES (vertices and simplices; interfaces named as bottoms of layers)\n",
    "res_surf_v, res_surf_s = gp.get_surfaces(interp_data = interp_data, potential_lith=lith_sol[1], \n",
    "                                         potential_fault=None, n_formation = res_n)\n",
    "seal_surf_v, seal_surf_s = gp.get_surfaces(interp_data = interp_data, potential_lith=lith_sol[1], \n",
    "                                           potential_fault=None, n_formation = seal_n)\n",
    "secres_surf_v, secres_surf_s = gp.get_surfaces(interp_data = interp_data, potential_lith=lith_sol[1], \n",
    "                                               potential_fault=None, n_formation = secres_n)\n",
    "over_surf_v, over_surf_s = gp.get_surfaces(interp_data = interp_data, potential_lith=lith_sol[1], \n",
    "                                           potential_fault=None, n_formation = over_n)\n",
    "\n",
    "fault_surf_v, fault_surf_s = gp.get_surfaces(interp_data = \n",
    "                                             interp_data, potential_lith=None, potential_fault=fault_sol[1], \n",
    "                                             n_formation = fault_n)"
   ]
  },
  {
   "cell_type": "code",
   "execution_count": 18,
   "metadata": {
    "collapsed": true
   },
   "outputs": [],
   "source": [
    "plot_3Dpoints = False\n",
    "plot_3Dsurf = False\n",
    "\n",
    "if plot_3Dpoints:\n",
    "    # 3D plot points in VTK\n",
    "    gp.plot_data_3D(geo_data)\n",
    "elif plot_3Dsurf:\n",
    "    # 3D plot points and surfaces in VTK\n",
    "    gp.plotting.plot_surfaces_3D_real_time(geo_data, interp_data, [res_surf_v, seal_surf_v, secres_surf_v, over_surf_v], \n",
    "                    [res_surf_s, seal_surf_s, secres_surf_s, over_surf_s], plot_data=True\n",
    "                   )"
   ]
  },
  {
   "cell_type": "code",
   "execution_count": 13,
   "metadata": {
    "collapsed": true
   },
   "outputs": [],
   "source": [
    "# DECLARING SOME MODEL VARIABLES\n",
    "resolution = geo_data.resolution[1] #resolution, standard: 50\n",
    "model_size = geo_data.extent[:2][1] # 'real' model extent, here: 2000 m - cubic (what if not cubic?)\n",
    "scale_factor = (model_size/resolution) # scale factor used for calculating voxel volumes in [m]\n",
    "                                        # here: 2000/50 = 40\n",
    "rescale_f = interp_data.rescaling_factor # rescaling factor from geo_data to interp_data\n",
    "\n",
    "minmax_buffer = True # buffer around local min and max values [on/off] - not used atm\n",
    "\n",
    "SSF_c = 3"
   ]
  },
  {
   "cell_type": "code",
   "execution_count": 14,
   "metadata": {
    "collapsed": true
   },
   "outputs": [],
   "source": [
    "vox_size_x = np.abs(geo_data.extent[1] - geo_data.extent[0]) / geo_data.resolution[0]\n",
    "vox_size_y = np.abs(geo_data.extent[3] - geo_data.extent[2]) / geo_data.resolution[1]\n",
    "vox_size_z = np.abs(geo_data.extent[5] - geo_data.extent[4]) / geo_data.resolution[2]\n",
    "vox_size_diag = np.sqrt(vox_size_x ** 2 + vox_size_y ** 2 + vox_size_z ** 2)"
   ]
  },
  {
   "cell_type": "code",
   "execution_count": 21,
   "metadata": {},
   "outputs": [],
   "source": [
    "#%matplotlib notebook\n",
    "%matplotlib inline\n",
    "figsize(20,10)\n",
    "#gp.plotting.plot_section(geo_data, lith_block, int(resolution/2), plot_data=1, direction='y')\n",
    "#plt.savefig('computed_block.pdf', transparent=True)"
   ]
  },
  {
   "cell_type": "code",
   "execution_count": 22,
   "metadata": {
    "collapsed": true,
    "scrolled": true
   },
   "outputs": [],
   "source": [
    "GX,GY,GZ=lith_sol[2].reshape(resolution,resolution,resolution), lith_sol[3].reshape(resolution,resolution,resolution), lith_sol[4].reshape(resolution,resolution,resolution)"
   ]
  },
  {
   "cell_type": "code",
   "execution_count": null,
   "metadata": {},
   "outputs": [],
   "source": [
    "gp.plot_gradient(geo_data, lith_sol[1], GX, GY, GZ, 25, direction='y', quiver_stepsize=4)"
   ]
  },
  {
   "cell_type": "code",
   "execution_count": null,
   "metadata": {},
   "outputs": [],
   "source": [
    "intersect_minima_all, intersect_maxima_all, intersect_saddles_all = sp.get_surface_extrema(geo_data,seal_surf_v,GX,GY,ref='x')"
   ]
  },
  {
   "cell_type": "code",
   "execution_count": null,
   "metadata": {},
   "outputs": [],
   "source": [
    "figsize(20,10)\n",
    "sp.plot_surface_extrema(geo_data,seal_surf_v,GX,GY,ref='x')"
   ]
  },
  {
   "cell_type": "code",
   "execution_count": null,
   "metadata": {},
   "outputs": [],
   "source": [
    "sp.get_highest_saddle_point(geo_data, seal_surf_v, GX, GY)"
   ]
  },
  {
   "cell_type": "code",
   "execution_count": null,
   "metadata": {
    "collapsed": true
   },
   "outputs": [],
   "source": [
    "gradmin = sp.get_gradient_minima(geo_data,GX,GY, ref='mean')\n",
    "intersect = sp.get_gradmin_intersect(geo_data,seal_surf_v,gradmin) "
   ]
  },
  {
   "cell_type": "code",
   "execution_count": null,
   "metadata": {},
   "outputs": [],
   "source": [
    "AD = fa.PlotFault2D(geo_data)\n",
    "AD.plot_lith_fault_contact(lith_sol, fault_sol, fault_n, lith_n=[3,4,5],fault_side='fw', projection='yz')\n",
    "gp.plotting.plot_section(geo_data, fault_block, 25, plot_data=True)"
   ]
  },
  {
   "cell_type": "code",
   "execution_count": null,
   "metadata": {},
   "outputs": [],
   "source": [
    "hm = AD.plot_juxtapositions(lith_sol, fault_sol, fault_n, \\\n",
    "                        lith_target=[5], lith_jux=[5], fault_side_ref='fw',\\\n",
    "                        projection='automatic')"
   ]
  },
  {
   "cell_type": "code",
   "execution_count": null,
   "metadata": {},
   "outputs": [],
   "source": [
    "AD.plot_AllanDiagram_multi(lith_sol, fault_sol, fault_n, \\\n",
    "                        lith_target=[5], lith_jux=[3,5], fault_side_ref='fw',\\\n",
    "                        projection='yz')"
   ]
  },
  {
   "cell_type": "code",
   "execution_count": null,
   "metadata": {
    "collapsed": true
   },
   "outputs": [],
   "source": [
    "juxtas = fa.get_juxtapositions(geo_data, lith_sol, fault_sol, fault_n, \\\n",
    "                        lith_target=[5], lith_jux=[3,4,5], target_side='fw',\\\n",
    "                        jux_side='hw', projection='automatic')\n",
    "\n",
    "jux_max = fa.get_extrema_line_of_projected(juxtas, 'max')"
   ]
  },
  {
   "cell_type": "code",
   "execution_count": null,
   "metadata": {
    "collapsed": true
   },
   "outputs": [],
   "source": [
    "peak_pos = fa.arg_contact_peaks_VOX(geo_data, lith_sol, fault_sol, lith_n=5, \\\n",
    "                            fault_n=1, projection='automatic', fault_side='fw',\\\n",
    "                         order='automatic')"
   ]
  },
  {
   "cell_type": "code",
   "execution_count": null,
   "metadata": {},
   "outputs": [],
   "source": [
    "plt.imshow(juxtas.T, origin='bottom')"
   ]
  },
  {
   "cell_type": "code",
   "execution_count": 15,
   "metadata": {
    "collapsed": true
   },
   "outputs": [],
   "source": [
    "# LITHOLOGY BLOCK MASKING FUNCTIONS\n",
    "\n",
    "# Masking function that confines to voxels which are part fo the reservoir formation,\n",
    "# in the footwall side and above the z-horizontal defined by the spill or leak point\n",
    "def res_mask(lith, fault, bottom_z, formation_bool, fault_bool):\n",
    "    mask = np.ones_like(lith)\n",
    "    mask[~formation_bool] = False\n",
    "    mask[fault_bool] = False\n",
    "    #mask[fault.astype(bool)] = False\n",
    "    bottom_z = round((bottom_z/scale_factor)+0.5).astype(int) #rounding up to avoid voxel connection to outside borders\n",
    "    mask = mask.reshape(resolution,resolution,resolution)\n",
    "    mask[:,:,:bottom_z] = False\n",
    "    mask = mask.reshape(resolution**3,)\n",
    "    return mask\n",
    "\n",
    "def topo_analysis(geo_data, lith, fault, seal_th, trap_n):\n",
    "    formation_numbers = geo_data.interfaces['formation_number'].unique()\n",
    "    traps = []\n",
    "    # Padding of lith- and fault-block (creating border sections, formation number = 8)\n",
    "    lith_pad = (np.pad(lith.reshape(resolution,resolution,resolution), 1, 'constant', constant_values = (0,0)))\n",
    "    fault_pad = (np.pad(fault.reshape(resolution,resolution,resolution), 1, 'constant', constant_values = (0,0)))\n",
    "    G, centroids, labels_unique, lith_to_labels_lot, labels_to_lith_lot, topo_block = \\\n",
    "        gp.topology.topology_analyze(lith_pad, fault_pad, 1, areas_bool=False, return_block=True)\n",
    "    # Finding sections which are possible traps in the reservoir (formation number = 0)\n",
    "    trap_keys = [int(k) for k in lith_to_labels_lot[\"%s\" % trap_n].keys()] # potential trap sections\n",
    "    pad_keys = [int(p) for p in lith_to_labels_lot[\"0\"].keys()] # model border sections\n",
    "    base_keys = [int(b) for b in lith_to_labels_lot[\"%s\" % base_n].keys()]\n",
    "    res_keys = [int(r) for r in lith_to_labels_lot[\"%s\" % res_n].keys()]\n",
    "    secres_keys = [int(j) for j in lith_to_labels_lot[\"%s\" % secres_n].keys()] # sections in Secondary Reservoir\n",
    "    over_keys = [int(o) for o in lith_to_labels_lot[\"%s\" % over_n].keys()] # section in Overlying\n",
    "    tot_under_keys = np.append(res_keys, base_keys) # all sections that belong to underlying below seal\n",
    "    tot_over_keys = np.append(secres_keys, over_keys) # all sections that belong to overlying above seal\n",
    "    bool_block = np.zeros_like(topo_block)\n",
    "    gp.topology.classify_edges(G, centroids, lith.reshape(50,50,50), fault.reshape(50,50,50))   \n",
    "    # If too many traps, model probably broken:\n",
    "    print(\"NUMBER OF TRAPS\", len(trap_keys))\n",
    "    if len(trap_keys) > 10:\n",
    "        trap_mask = bool_block[1:-1,1:-1,1:-1]\n",
    "        SSF = 0\n",
    "        trap_control = 0\n",
    "        return trap_mask, SSF, trap_control\n",
    "    else:\n",
    "        # Check for each possible trap section, if it is connected to a border\n",
    "        for tk in trap_keys:\n",
    "            print('Checking Section:', tk)\n",
    "            # Check for adjacency to model border\n",
    "            if gp.topology.check_adjacency(G, tk, pad_keys[0]) == False:\n",
    "                # Check for connection (juxtaposition!) to overlying layers (above seal) and SSF\n",
    "                traps.append(tk)\n",
    "                print('TRAP:', tk)\n",
    "        if traps == []:\n",
    "            print('No trap found! =(')\n",
    "        else:\n",
    "            for i in traps:\n",
    "                # Creating a mask from the trap sections in the label block\n",
    "                top_bool = topo_block == i\n",
    "                bool_block[top_bool] = True\n",
    "        # Removing padding\n",
    "        trap_mask = bool_block[1:-1,1:-1,1:-1]\n",
    "        return trap_mask # this mask returns True for all voxels which were accepted as trap voxels"
   ]
  },
  {
   "cell_type": "code",
   "execution_count": 16,
   "metadata": {
    "collapsed": true
   },
   "outputs": [],
   "source": [
    "# get juxtaposition with itself\n",
    "def self_juxta(geo_data, lith_sol, fault_sol, fault_n, \\\n",
    "                        res_n):\n",
    "    juxta = fa.get_juxtapositions(geo_data, lith_sol, fault_sol, fault_n, \\\n",
    "                        lith_target=res_n, lith_jux=res_n, target_side='fw',\\\n",
    "                        jux_side='hw', projection='automatic')\n",
    "    max_jux = np.max(np.argwhere(juxta==True)[1,:]) * vox_size_z\n",
    "    return max_jux"
   ]
  },
  {
   "cell_type": "code",
   "execution_count": 17,
   "metadata": {
    "collapsed": true
   },
   "outputs": [],
   "source": [
    "# get juxtapositions with any other input perm layers\n",
    "def perm_juxta(geo_data, lith_sol, fault_sol, fault_n, \\\n",
    "                        res_n, lith_perm):\n",
    "    if isinstance(lith_perm, int):\n",
    "        lith_perm = [lith_perm]\n",
    "    juxta_list = np.zeros((len(lith_perm),2))\n",
    "    juxta_list[:,0] = np.array(lith_perm)\n",
    "    for i in lith_perm:\n",
    "        juxta = fa.get_juxtapositions(geo_data, lith_sol, fault_sol, fault_n, \\\n",
    "                        res_n, i, target_side='fw',\\\n",
    "                        jux_side='hw', projection='automatic')\n",
    "        if np.any(juxta):\n",
    "            max_jux = np.max(np.argwhere(juxta==True)[1,:]) * vox_size_z\n",
    "            juxta_list[(np.argwhere(juxta_list[:,0]==i)),1] = max_jux\n",
    "    juxta_list = np.delete(juxta_list, np.argwhere(juxta_list[:,1]==0), 0)\n",
    "    return juxta_list        "
   ]
  },
  {
   "cell_type": "code",
   "execution_count": 18,
   "metadata": {
    "collapsed": true
   },
   "outputs": [],
   "source": [
    "# get SSF on base of fault analysis module\n",
    "def fa_SSF(geo_data, lith_sol, fault_sol, lith_n, fault_n,\n",
    "                      position='faultmax_argrelmax', order=40):\n",
    "    fault_throws = fa.get_faultthrow_at(geo_data, lith_sol, fault_sol, lith_n, fault_n,\n",
    "                      position=position, order=order)\n",
    "    max_throw = np.nanmax(fault_throws)\n",
    "    contact = fa.get_vox_lf_contact(geo_data, lith_sol, fault_sol, lith_n=4, fault_n=1, fault_side='fw')\n",
    "    proj = fa.project_voxels(contact, form='2D')\n",
    "    lith_thickness = fa.get_lithcontact_thickness_at(geo_data, lith_sol, fault_sol, lith_n, fault_n, fault_side='fw',\n",
    "                      position=position, order=order)\n",
    "    min_thickness = np.nanmin(lith_thickness)\n",
    "    SSF = max_throw/min_thickness\n",
    "    print('SSF = %s / %s = %s' % (max_throw, min_thickness, SSF))\n",
    "    return SSF"
   ]
  },
  {
   "cell_type": "code",
   "execution_count": 27,
   "metadata": {
    "collapsed": true
   },
   "outputs": [],
   "source": [
    "# MAIN FUNCTION: Calculation of maximum fill volume in reservoir traps\n",
    "def max_trap_vol(geo_data, interp_data, lith_sol, fault_sol, res_n, seal_n, fault_n, GX, GY, seal_surf_v):\n",
    "    formation_numbers = geo_data.interfaces['formation_number'].unique()\n",
    "    trap_n = (np.max(formation_numbers)+1)\n",
    "    \n",
    "    lith_block = lith_sol[0]\n",
    "    fault_block = fault_sol[0]\n",
    "    \n",
    "    trap_control = 0 # intitiating variable that indicates what kind of mechanism controls the trap volume\n",
    "                        # 0 = Unclear\n",
    "                        # 1 = Spill Point\n",
    "                        # 2 = Leak Point (LEAK UNDER)\n",
    "                        # 3 = Seal breach juxtaposition leakage (LEAK OVER)\n",
    "                        # 4 = Stratigraphical adjacency leakage \n",
    "    highest_spill_point = sp.get_highest_saddle_point(geo_data, seal_surf_v, GX, GY)\n",
    "    \n",
    "    if highest_spill_point == []:\n",
    "        spill_z = np.nan\n",
    "        print('No SPILL POINT found!')\n",
    "        trap_vol = 0\n",
    "        final_trap_mask = np.zeros_like(lith_block)\n",
    "        return trap_vol, final_trap_mask, np.nan, 0\n",
    "    \n",
    "    spill_z = np.max(highest_spill_point[2])\n",
    "    leak_self_z = self_juxta(geo_data, lith_sol, fault_sol, fault_n, res_n)\n",
    "    juxta_above = perm_juxta(geo_data, lith_sol, fault_sol, fault_n, res_n, lith_perm=[2,3])\n",
    "    \n",
    "    print('SPILL POINT:', highest_spill_point)\n",
    "    print('LEAK SELF Z:', leak_self_z)\n",
    "    print('JUXTA ABOVE:', juxta_above)\n",
    "    \n",
    "    seal_thickness_all = fa.get_lithcontact_thickness_at(geo_data, lith_sol, fault_sol, \n",
    "                                                         seal_n, fault_n, fault_side='fw',\n",
    "                      position='faultmax_argrelmax', order=40)\n",
    "    seal_thickness = np.nanmin(seal_thickness_all)\n",
    "    \n",
    "    SSF_c = 3\n",
    "    SSF = fa_SSF(geo_data, lith_sol, fault_sol, seal_n, fault_n,\n",
    "                      position='faultmax_argrelmax', order=40)\n",
    "    if SSF > SSF_c:\n",
    "        print('SSF threshold exceeded, shale smear assumed to be incomplete.')\n",
    "        SSF_sealing = False\n",
    "    else: \n",
    "        print('SSF in confidence range, complete shale smear sealing assumed.')\n",
    "        SSF_sealing = True\n",
    "        \n",
    "    general_sealing = False # might be implemented later (as binomial probability)\n",
    "    \n",
    "    if juxta_above.size == 0:\n",
    "        leak_z = leak_self_z\n",
    "        # no SSF necessary (but still have to be calculated if relevant in probabilistic model)\n",
    "        # possible use of general fault sealing probability\n",
    "        max_z = np.nanmax([spill_z, leak_z])  \n",
    "    else:\n",
    "        # check for SSF/general sealing\n",
    "        if SSF_sealing == False: \n",
    "            leak_above_z = np.max(juxta_above[:,1])\n",
    "            max_z = np.nanmax([spill_z, leak_above_z]) \n",
    "            if max_z == spill_z:\n",
    "                trap_control = 1\n",
    "            else:\n",
    "                trap_control = 3   \n",
    "        elif general_sealing == False:\n",
    "            max_z = np.nanmax([spill_z, leak_self_z])\n",
    "            if max_z == spill_z:\n",
    "                trap_control = 1\n",
    "            else:\n",
    "                trap_control = 2   \n",
    "        else:\n",
    "            max_z = spill_z\n",
    "            trap_control = 1\n",
    "            \n",
    "    ### MAKE AN OWN FUNCTION TO GET MAX_Z!              \n",
    "        \n",
    "    rounded_lith = np.around(lith_block).astype(int)\n",
    "    rounded_fault = np.around(fault_block).astype(int)\n",
    "    res_n_bool = rounded_lith == res_n\n",
    "    fault_bool = rounded_lith == 2\n",
    "        \n",
    "    pre_trap_mask = res_mask(lith_block, fault_block, max_z, res_n_bool, fault_bool)\n",
    "          \n",
    "    # volume cells for counting\n",
    "    vol_cells = 0\n",
    "    lith_copy = np.copy(lith_block)\n",
    "        \n",
    "    pre_trap_mask_bool = (pre_trap_mask == True)\n",
    "    # Check if there is anything in the reservoir mask at all\n",
    "    if np.count_nonzero(pre_trap_mask_bool) == 0:\n",
    "        print(\"No res_formation above max_z!\")\n",
    "        trap_control = 0\n",
    "        return 0, pre_trap_mask, SSF, trap_control\n",
    "    else:\n",
    "        lith_copy[pre_trap_mask_bool] = trap_n                           # setting reservoir above bottom on footwall side \n",
    "        final_trap_mask = topo_analysis(geo_data, lith_copy, fault_block, seal_thickness, trap_n)\n",
    "        lith_copy[final_trap_mask] = (trap_n + 1)                        # setting final trap to formation value = trap_n + 1\n",
    "        vol_cells = np.count_nonzero(final_trap_mask)\n",
    "            \n",
    "        #calulate volume from cells\n",
    "        trap_vol = ((scale_factor)**3) * vol_cells \n",
    "        # revert to lith_block without any masks\n",
    "        #lith[pre_trap_mask_bool] = res_n      \n",
    "        #return the maximum reservoir volume\n",
    "        return trap_vol, final_trap_mask, SSF, trap_control"
   ]
  },
  {
   "cell_type": "code",
   "execution_count": 20,
   "metadata": {
    "collapsed": true
   },
   "outputs": [],
   "source": [
    "# PLOTTING FUNCTIONS: Spill and leak point visualization\n",
    "def plot_spill_leak(res_surface, pot_spills, spill_point, leak_point, grid_x, grid_y, grid_z0):\n",
    "    fig = plt.figure()\n",
    "    ax = fig.add_subplot(111, projection='3d')\n",
    "    ax.scatter(grid_x, grid_y, grid_z0, c=\"b\", alpha = 0.1)\n",
    "    #ax.scatter(grid_x, grid_y,pot_spills, c=\"r\", alpha = 1, marker='p', s = 250)\n",
    "    if spill_point.size != 0:        \n",
    "        ax.scatter(spill_point[0],spill_point[1],spill_point[2], c=\"black\", alpha = 1, marker='x', s = 250)\n",
    "    if leak_point.size != 0:        \n",
    "        ax.scatter(leak_point[0],leak_point[1],leak_point[2], c=\"black\", alpha = 1, marker='+', s = 250)\n",
    "        \n",
    "    ax.set_xlabel('X Label')\n",
    "    ax.set_ylabel('Y Label')\n",
    "    ax.set_zlabel('Z Label')\n",
    "    \n",
    "    plt.show()"
   ]
  },
  {
   "cell_type": "code",
   "execution_count": 21,
   "metadata": {
    "collapsed": true
   },
   "outputs": [],
   "source": [
    "# for setting up postional conditions to determine thicknesses and the like:\n",
    "fw_th_point = 900 # distance of test point for thickness from footwall border of model \n",
    "                  # (e.g.: X = 2000 - 900 = 1100)\n",
    "HW_border = 1300 # distance of middle of fault (border HW/FW) from footwall border of model\n",
    "                # (X = 2000 - 1300 = 700)\n",
    "\n",
    "# SAVING ORIGINAL Z-VALUES (so they are not overwritten and can be used a base for every iteration)    \n",
    "sec_res_z = interp_data.geo_data_res.interfaces[interp_data.geo_data_res.interfaces['formation'] == 'SecRes_Top']['Z']\n",
    "seal_z = interp_data.geo_data_res.interfaces[interp_data.geo_data_res.interfaces['formation'] == 'Seal_Top']['Z']\n",
    "res_z = interp_data.geo_data_res.interfaces[interp_data.geo_data_res.interfaces['formation'] == 'Res_Top']['Z']\n",
    "base_z = interp_data.geo_data_res.interfaces[interp_data.geo_data_res.interfaces['formation'] == 'Base_Top']['Z']\n",
    "\n",
    "# SETTING Z-UNCERTAINTIES FOR EACH LAYER TOP\n",
    "unc_f = 1\n",
    "std_secres_top = 40 #* unc_f\n",
    "std_seal_top = 60 #* unc_f\n",
    "std_res_top = 80 #* unc_f\n",
    "std_base_top = 100 #* unc_f\n",
    "z_unc_secres_top = pymc.Normal('z_unc_secres_top', 0, 1./np.square(std_secres_top/rescale_f))\n",
    "z_unc_seal_top = pymc.Normal('z_unc_seal_top', 0/rescale_f, 1./np.square(std_seal_top/rescale_f))\n",
    "z_unc_res_top = pymc.Normal('z_unc_res_top', 0, 1./np.square(std_res_top/rescale_f))\n",
    "z_unc_base_top = pymc.Normal('z_unc_base_top', 0, 1./np.square(std_base_top/rescale_f))\n",
    "\n",
    "# SETTING FAULT OFFSET UNCERTAINTY\n",
    "std_offset = 250\n",
    "# using SkewNormal, so that fault offset is much more like to vary to a higher offset and to stay as a normal fault\n",
    "offset_unc = pymc.SkewNormal('offset_unc', -10/rescale_f, 1./np.square(std_offset/rescale_f), alpha=-2)\n",
    "#offset_unc = pymc.SkewNormal('offset_unc', -100/rescale_f, 1./np.square(std_offset/rescale_f), alpha=-2)\n",
    "\n",
    "# GENERAL FAULT SEALING UNCERTAINTY (p = probability of success (1 = True); True = fault sealing) # NOT USED!\n",
    "#fault_sealing = pymc.Bernoulli('fault_sealing_unc',p=0)"
   ]
  },
  {
   "cell_type": "code",
   "execution_count": 22,
   "metadata": {
    "collapsed": true
   },
   "outputs": [],
   "source": [
    "# Boolean conditions to find data points for each formation\n",
    "base_top_cond = interp_data.geo_data_res.interfaces['formation'] == 'Base_Top'\n",
    "res_top_cond = interp_data.geo_data_res.interfaces['formation'] == 'Res_Top'\n",
    "seal_top_cond = interp_data.geo_data_res.interfaces['formation'] == 'Seal_Top'\n",
    "secres_top_cond = interp_data.geo_data_res.interfaces['formation'] == 'SecRes_Top'\n",
    "\n",
    "# Footwall and hanging wall conditions\n",
    "footwall = interp_data.geo_data_res.interfaces['fault side'] == 'footwall'\n",
    "hanging_wall = interp_data.geo_data_res.interfaces['fault side'] == 'hanging wall'\n",
    "\n",
    "# Combining hanging wall and formation conditions\n",
    "HW_secres_top = np.logical_and(secres_top_cond,hanging_wall)\n",
    "HW_seal_top = np.logical_and(seal_top_cond,hanging_wall)\n",
    "HW_res_top = np.logical_and(res_top_cond,hanging_wall)\n",
    "HW_base_top = np.logical_and(base_top_cond,hanging_wall)"
   ]
  },
  {
   "cell_type": "code",
   "execution_count": 30,
   "metadata": {
    "scrolled": false
   },
   "outputs": [
    {
     "name": "stdout",
     "output_type": "stream",
     "text": [
      "7    0.268517\n",
      "8    0.242876\n",
      "9    0.217235\n",
      "Name: Z, dtype: float64\n",
      "Z variations top to bottom: 50.198541313 -28.1496096855 82.7638432037 -69.2734973632\n",
      "Fault offset variation: -275.528627905\n",
      "7    0.197869\n",
      "8    0.172228\n",
      "9    0.146587\n",
      "Name: Z, dtype: float64\n",
      "7    0.197869\n",
      "8    0.172228\n",
      "9    0.146587\n",
      "Name: Z, dtype: float64\n",
      "7    0.197869\n",
      "8    0.172228\n",
      "9    0.146587\n",
      "Name: Z, dtype: float64\n"
     ]
    },
    {
     "name": "stderr",
     "output_type": "stream",
     "text": [
      "/home/bl9/anaconda3/lib/python3.5/site-packages/ipykernel_launcher.py:71: FutureWarning: set_value is deprecated and will be removed in a future release. Please use .at[] or .iat[] accessors instead\n",
      "/home/bl9/anaconda3/lib/python3.5/site-packages/ipykernel_launcher.py:72: FutureWarning: set_value is deprecated and will be removed in a future release. Please use .at[] or .iat[] accessors instead\n",
      "/home/bl9/anaconda3/lib/python3.5/site-packages/ipykernel_launcher.py:73: FutureWarning: set_value is deprecated and will be removed in a future release. Please use .at[] or .iat[] accessors instead\n",
      "/home/bl9/anaconda3/lib/python3.5/site-packages/ipykernel_launcher.py:74: FutureWarning: set_value is deprecated and will be removed in a future release. Please use .at[] or .iat[] accessors instead\n",
      "/home/bl9/anaconda3/lib/python3.5/site-packages/ipykernel_launcher.py:78: FutureWarning: set_value is deprecated and will be removed in a future release. Please use .at[] or .iat[] accessors instead\n",
      "/home/bl9/anaconda3/lib/python3.5/site-packages/ipykernel_launcher.py:79: FutureWarning: set_value is deprecated and will be removed in a future release. Please use .at[] or .iat[] accessors instead\n",
      "/home/bl9/anaconda3/lib/python3.5/site-packages/ipykernel_launcher.py:80: FutureWarning: set_value is deprecated and will be removed in a future release. Please use .at[] or .iat[] accessors instead\n",
      "/home/bl9/anaconda3/lib/python3.5/site-packages/ipykernel_launcher.py:81: FutureWarning: set_value is deprecated and will be removed in a future release. Please use .at[] or .iat[] accessors instead\n"
     ]
    },
    {
     "name": "stdout",
     "output_type": "stream",
     "text": [
      "7    0.197869\n",
      "8    0.172228\n",
      "9    0.146587\n",
      "Name: Z, dtype: float64\n",
      "No maxima found for surface.\n",
      "SPILL POINT: [ 1360.           920.           831.34643555]\n",
      "LEAK SELF Z: 560.0\n",
      "JUXTA ABOVE: []\n",
      "SSF = 160.0 / 120.0 = 1.33333333333\n",
      "SSF in confidence range, complete shale smear sealing assumed.\n"
     ]
    },
    {
     "name": "stderr",
     "output_type": "stream",
     "text": [
      "/home/bl9/anaconda3/lib/python3.5/site-packages/ipykernel_launcher.py:17: DeprecationWarning: elementwise == comparison failed; this will raise an error in the future.\n"
     ]
    },
    {
     "name": "stdout",
     "output_type": "stream",
     "text": [
      "NUMBER OF TRAPS 3\n",
      "Checking Section: 10\n",
      "TRAP: 10\n",
      "Checking Section: 14\n",
      "Checking Section: 4\n",
      "Maximum trap volume: 24576000.0 m³\n"
     ]
    },
    {
     "data": {
      "image/png": "[encoded data removed]",
      "text/plain": [
       "<Figure size 748.8x514.8 with 1 Axes>"
      ]
     },
     "metadata": {},
     "output_type": "display_data"
    },
    {
     "data": {
      "image/png": "[encoded data removed]",
      "text/plain": [
       "<Figure size 748.8x514.8 with 1 Axes>"
      ]
     },
     "metadata": {},
     "output_type": "display_data"
    }
   ],
   "source": [
    "# PYMC MODEL FUNCTIONS \n",
    "\n",
    "\n",
    "# Calculating formation thickness based on z-difference between a bottom and top point on the footwall (fw)\n",
    "\n",
    "# This is done using interp_data, where X,Y and Z-values are rescaled according to the rescaling_factor.\n",
    "# Value[1] of extent_rescaled equals the maximum extent of model (here: 2000).\n",
    "# So if we want to find the rescaled chosen X-position (here: 1100), \n",
    "# we simply calculate 2000-fw_th_point(here:900) rescaled (see fw_x)\n",
    "# Y_mid defines that we are looking at a central position (in y-direction) in the model.\n",
    "# The difference in z between two points has to be rescaled to the original scale again.\n",
    "#rescale_f = interp_data.rescaling_factor\n",
    "\n",
    "# Reservoir thickness\n",
    "#@pymc.deterministic\n",
    "#def res_th(interp_data=interp_unc):\n",
    "#    fw_x = interp_data.geo_data_res.interfaces['X'] == (interp_data.geo_data_res.extent[1] - (fw_th_point/rescale_f))\n",
    "#    y_mid = interp_data.geo_data_res.interfaces['Y'] == (interp_data.geo_data_res.extent[3] - (1000/rescale_f))\n",
    "#    points_fw = interp_data.geo_data_res.interfaces[fw_x]\n",
    "#    points_fw = points_fw[y_mid] \n",
    "#    fw_rb_z = points_fw[base_top_cond]['Z'].values*rescale_f\n",
    "#    fw_sb_z = points_fw[res_top_cond]['Z'].values*rescale_f\n",
    "#    return np.abs(fw_sb_z-fw_rb_z)\n",
    "#\n",
    "##Seal thickness\n",
    "#@pymc.deterministic\n",
    "#def seal_th(interp_data=interp_unc):\n",
    "#    fw_x = interp_data.geo_data_res.interfaces['X'] == (interp_data.geo_data_res.extent[1] - (fw_th_point/rescale_f))\n",
    "#    y_mid = interp_data.geo_data_res.interfaces['Y'] == (interp_data.geo_data_res.extent[3] - (1000/rescale_f))\n",
    "#    # .extent[1] = 'X'-max; .extent[3] = 'Y'-max\n",
    "#    points_fw = interp_data.geo_data_res.interfaces[fw_x]\n",
    "#    points_fw = points_fw[y_mid] \n",
    "#    fw_r2b_z = points_fw[seal_top_cond]['Z'].values*rescale_f\n",
    "#    fw_sb_z = points_fw[res_top_cond]['Z'].values*rescale_f\n",
    "#    return np.abs(fw_r2b_z-fw_sb_z)\n",
    "#\n",
    "## Secondary reservoir thickness\n",
    "#@pymc.deterministic\n",
    "#def sec_res_th(interp_data=interp_unc):\n",
    "#    fw_x = interp_data.geo_data_res.interfaces['X'] == (interp_data.geo_data_res.extent[1] - (fw_th_point/rescale_f))\n",
    "#    y_mid = interp_data.geo_data_res.interfaces['Y'] == (interp_data.geo_data_res.extent[3] - (1000/rescale_f))\n",
    "#    points_fw = interp_data.geo_data_res.interfaces[fw_x]\n",
    "#    points_fw = points_fw[y_mid] \n",
    "#    fw_r2b_z = points_fw[seal_top_cond]['Z'].values*rescale_f\n",
    "#    fw_ob_z = points_fw[secres_top_cond]['Z'].values*rescale_f\n",
    "#    return np.abs(fw_ob_z-fw_r2b_z)   \n",
    "\n",
    "# Updating of interp_data points with new z-values resulting from z-positional uncertainty\n",
    "# and including offset uncertainty:\n",
    "@pymc.deterministic\n",
    "def interp_unc(value=0, interp_data=interp_data, z_unc_secres_top = z_unc_secres_top, z_unc_seal_top=z_unc_seal_top, \n",
    "                  z_unc_res_top = z_unc_res_top, z_unc_base_top = z_unc_base_top, off_unc=offset_unc):\n",
    "    #print('CHECK0:', res_z)\n",
    "    print(interp_data.geo_data_res.interfaces.loc[HW_secres_top,'Z'])\n",
    "    new_z_secres_top = sec_res_z + z_unc_secres_top\n",
    "    new_z_seal_top = seal_z + z_unc_seal_top\n",
    "    new_z_res_top = res_z + z_unc_res_top\n",
    "    new_z_base_top = base_z + z_unc_base_top   \n",
    "    \n",
    "    # for offset uncertainty: additional change on hanging wall (HW): \n",
    "    HW_new_z_secres_top = interp_data.geo_data_res.interfaces.loc[HW_secres_top,'Z'] + off_unc\n",
    "    HW_new_z_seal_top = interp_data.geo_data_res.interfaces.loc[HW_seal_top,'Z'] + off_unc\n",
    "    HW_new_z_res_top = interp_data.geo_data_res.interfaces.loc[HW_res_top,'Z'] + off_unc\n",
    "    HW_new_z_base_top = interp_data.geo_data_res.interfaces.loc[HW_base_top,'Z'] + off_unc\n",
    "\n",
    "    print('Z variations top to bottom:', z_unc_secres_top*rescale_f, \n",
    "          z_unc_seal_top*rescale_f, z_unc_res_top*rescale_f, z_unc_base_top*rescale_f)  \n",
    "    print('Fault offset variation:', off_unc*rescale_f)\n",
    "    \n",
    "    # FOOTWALL UNCERTAINTY\n",
    "    interp_data.geo_data_res.interfaces.set_value(secres_top_cond,'Z',new_z_secres_top)\n",
    "    interp_data.geo_data_res.interfaces.set_value(seal_top_cond,'Z',new_z_seal_top)\n",
    "    interp_data.geo_data_res.interfaces.set_value(res_top_cond,'Z',new_z_res_top)\n",
    "    interp_data.geo_data_res.interfaces.set_value(base_top_cond,'Z',new_z_base_top)\n",
    "    \n",
    "    print(HW_new_z_secres_top)\n",
    "    # HANGING WALL UNCERTAINTY (incl. offset)\n",
    "    interp_data.geo_data_res.interfaces.set_value(HW_secres_top,'Z', HW_new_z_secres_top)\n",
    "    interp_data.geo_data_res.interfaces.set_value(HW_seal_top,'Z', HW_new_z_seal_top)\n",
    "    interp_data.geo_data_res.interfaces.set_value(HW_res_top,'Z',HW_new_z_res_top)\n",
    "    interp_data.geo_data_res.interfaces.set_value(HW_base_top,'Z',HW_new_z_base_top)\n",
    "    print(interp_data.geo_data_res.interfaces.loc[HW_secres_top,'Z'])\n",
    "    \n",
    "    #print('CHECK3:', interp_data.geo_data_res.interfaces)    \n",
    "    return interp_data\n",
    "\n",
    "# Volumetric calculation \n",
    "@pymc.deterministic\n",
    "def structural_model(interp_data_M=interp_unc, seal_n=seal_n, print_figures=True):\n",
    "    #try:\n",
    "    print(interp_data_M.geo_data_res.interfaces.loc[HW_secres_top,'Z'])\n",
    "    lith_sol, fault_sol = gp.compute_model(interp_data_M)\n",
    "    #print(np.unique(lith_sol[0]-lh[0]))\n",
    "    print(interp_data_M.geo_data_res.interfaces.loc[HW_secres_top,'Z'])\n",
    "    lith_block = lith_sol[0]\n",
    "    fault_block = fault_sol[0]  \n",
    "    seal_surf_V = gp.get_surfaces(\\\n",
    "        interp_data = interp_data_M, potential_lith=lith_sol[1], \\\n",
    "        potential_fault=fault_sol[1], n_formation = seal_n)[0]\n",
    "    Gx,Gy=lith_sol[2].reshape(resolution,resolution,resolution), lith_sol[3].reshape(resolution,resolution,resolution)\n",
    "    max_vol, trap, SSF, trap_control = max_trap_vol(geo_data, interp_data_M, \n",
    "                                                    lith_sol, fault_sol, res_n, \n",
    "                                                    seal_n, fault_n, Gx, Gy, seal_surf_V)\n",
    "    print(\"Maximum trap volume: %s m³\" % max_vol)\n",
    "    if print_figures:\n",
    "        plt.figure(1)\n",
    "        gp.plotting.plot_section(geo_data, lith_block, int(resolution/2), plot_data =0)\n",
    "        plt.figure(2)\n",
    "        gp.plotting.plot_section(geo_data, trap, int(resolution/2), plot_data =0)\n",
    "    return lith_sol, fault_sol, max_vol, trap, SSF, trap_control\n",
    "    #return max_vol, SSF, trap_control\n",
    "        \n",
    "    #except np.linalg.linalg.LinAlgError as err:\n",
    "    #    # In case of LinAlgError, use original model\n",
    "    #    print('LinAlgError occurred!')\n",
    "    #    lith_sol = lh\n",
    "    #    fault_sol = fh\n",
    "    #    lith_block = lith_sol[0]\n",
    "    #    fault_block = fault_sol[0] \n",
    "    #    seal_surf_V, seal_surf_s = gp.get_surfaces(\\\n",
    "    #                                          interp_data = interp_data_M, potential_lith=lith_sol[1], \\\n",
    "    #        potential_fault=fault_sol[1], n_formation = seal_n)\n",
    "    #    Gx,Gy=lith_sol[2].reshape(resolution,resolution,resolution), lith_sol[3].reshape(resolution,resolution,resolution)\n",
    "    #    max_vol, trap, SSF, trap_control = max_trap_vol(geo_data, idh, \n",
    "    #                                                    lith_block, fault_block, res_n, \n",
    "    #                                                    seal_n, fault_n, Gx, Gy, seal_surf_V)\n",
    "    #    print(\"Maximum trap volume: %s m³\" % max_vol)\n",
    "    #    return lith_sol, fault_sol, max_vol, trap, SSF, trap_control\n",
    "    #    #return max_vol, SSF, trap_control\n",
    "    \n",
    "    ### RETURN INDICES:\n",
    "    ### 0 = lith_sol\n",
    "    ### 1 = fault_sol\n",
    "    ### 2 = max_vol (maximum trap volume)\n",
    "    ### 3 = trap (block)\n",
    "    ### 4 = SSF (Shale Smear Factor)\n",
    "    ### 5 = trap_control (controling mechanism for max trap volume)"
   ]
  },
  {
   "cell_type": "code",
   "execution_count": 31,
   "metadata": {
    "collapsed": true
   },
   "outputs": [],
   "source": [
    "iterations = 5"
   ]
  },
  {
   "cell_type": "code",
   "execution_count": 32,
   "metadata": {
    "collapsed": true
   },
   "outputs": [],
   "source": [
    "model = pymc.Model([interp_unc, z_unc_res_top, z_unc_base_top, z_unc_seal_top, z_unc_secres_top, offset_unc, structural_model])\n",
    "#model = pymc.Model([interp_unc, z_unc_res_top, z_unc_base_top, z_unc_seal_top, z_unc_secres_top, offset_unc, structural_model, res_th, seal_th, sec_res_th, over_jux_area])"
   ]
  },
  {
   "cell_type": "code",
   "execution_count": 33,
   "metadata": {
    "scrolled": true
   },
   "outputs": [
    {
     "name": "stderr",
     "output_type": "stream",
     "text": [
      "/home/bl9/anaconda3/lib/python3.5/site-packages/pymc/MCMC.py:81: UserWarning: Instantiating a Model object directly is deprecated. We recommend passing variables directly to the Model subclass.\n",
      "  warnings.warn(message)\n",
      "/home/bl9/anaconda3/lib/python3.5/site-packages/ipykernel_launcher.py:71: FutureWarning: set_value is deprecated and will be removed in a future release. Please use .at[] or .iat[] accessors instead\n",
      "/home/bl9/anaconda3/lib/python3.5/site-packages/ipykernel_launcher.py:72: FutureWarning: set_value is deprecated and will be removed in a future release. Please use .at[] or .iat[] accessors instead\n",
      "/home/bl9/anaconda3/lib/python3.5/site-packages/ipykernel_launcher.py:73: FutureWarning: set_value is deprecated and will be removed in a future release. Please use .at[] or .iat[] accessors instead\n",
      "/home/bl9/anaconda3/lib/python3.5/site-packages/ipykernel_launcher.py:74: FutureWarning: set_value is deprecated and will be removed in a future release. Please use .at[] or .iat[] accessors instead\n",
      "/home/bl9/anaconda3/lib/python3.5/site-packages/ipykernel_launcher.py:78: FutureWarning: set_value is deprecated and will be removed in a future release. Please use .at[] or .iat[] accessors instead\n",
      "/home/bl9/anaconda3/lib/python3.5/site-packages/ipykernel_launcher.py:79: FutureWarning: set_value is deprecated and will be removed in a future release. Please use .at[] or .iat[] accessors instead\n",
      "/home/bl9/anaconda3/lib/python3.5/site-packages/ipykernel_launcher.py:80: FutureWarning: set_value is deprecated and will be removed in a future release. Please use .at[] or .iat[] accessors instead\n",
      "/home/bl9/anaconda3/lib/python3.5/site-packages/ipykernel_launcher.py:81: FutureWarning: set_value is deprecated and will be removed in a future release. Please use .at[] or .iat[] accessors instead\n"
     ]
    },
    {
     "name": "stdout",
     "output_type": "stream",
     "text": [
      "7    0.197869\n",
      "8    0.172228\n",
      "9    0.146587\n",
      "Name: Z, dtype: float64\n",
      "Z variations top to bottom: 4.33258792303 -35.5399683184 73.6023419553 58.3696540919\n",
      "Fault offset variation: -177.969844453\n",
      "7    0.152236\n",
      "8    0.126595\n",
      "9    0.100954\n",
      "Name: Z, dtype: float64\n",
      "7    0.152236\n",
      "8    0.126595\n",
      "9    0.100954\n",
      "Name: Z, dtype: float64\n",
      "7    0.152236\n",
      "8    0.126595\n",
      "9    0.100954\n",
      "Name: Z, dtype: float64\n",
      "7    0.152236\n",
      "8    0.126595\n",
      "9    0.100954\n",
      "Name: Z, dtype: float64\n",
      "No maxima found for surface.\n",
      "SPILL POINT: [ 1360.           920.           831.34643555]\n",
      "LEAK SELF Z: 560.0\n",
      "JUXTA ABOVE: []\n",
      "SSF = 160.0 / 120.0 = 1.33333333333\n",
      "SSF in confidence range, complete shale smear sealing assumed.\n"
     ]
    },
    {
     "name": "stderr",
     "output_type": "stream",
     "text": [
      "/home/bl9/anaconda3/lib/python3.5/site-packages/ipykernel_launcher.py:17: DeprecationWarning: elementwise == comparison failed; this will raise an error in the future.\n"
     ]
    },
    {
     "name": "stdout",
     "output_type": "stream",
     "text": [
      "NUMBER OF TRAPS 3\n",
      "Checking Section: 10\n",
      "TRAP: 10\n",
      "Checking Section: 14\n",
      "Checking Section: 4\n",
      "Maximum trap volume: 24576000.0 m³\n",
      " [---------------  40%                  ] 2 of 5 complete in 35.9 sec7    0.152236\n",
      "8    0.126595\n",
      "9    0.100954\n",
      "Name: Z, dtype: float64\n",
      "Z variations top to bottom: -34.4072282855 103.281739833 45.8195386389 -57.1867660413\n",
      "Fault offset variation: -236.352061482\n",
      "7    0.091633\n",
      "8    0.065992\n",
      "9    0.040351\n",
      "Name: Z, dtype: float64\n",
      "7    0.091633\n",
      "8    0.065992\n",
      "9    0.040351\n",
      "Name: Z, dtype: float64\n",
      "7    0.091633\n",
      "8    0.065992\n",
      "9    0.040351\n",
      "Name: Z, dtype: float64\n",
      "7    0.091633\n",
      "8    0.065992\n",
      "9    0.040351\n",
      "Name: Z, dtype: float64\n",
      "No maxima found for surface.\n",
      "SPILL POINT: [ 1360.           920.           831.34643555]\n",
      "LEAK SELF Z: 560.0\n",
      "JUXTA ABOVE: []\n",
      "SSF = 160.0 / 120.0 = 1.33333333333\n",
      "SSF in confidence range, complete shale smear sealing assumed.\n",
      "NUMBER OF TRAPS 3\n",
      "Checking Section: 10\n",
      "TRAP: 10\n",
      "Checking Section: 14\n",
      "Checking Section: 4\n",
      "Maximum trap volume: 24576000.0 m³\n",
      " [-----------------60%--                ] 3 of 5 complete in 70.1 sec7    0.091633\n",
      "8    0.065992\n",
      "9    0.040351\n",
      "Name: Z, dtype: float64\n",
      "Z variations top to bottom: 18.2157806859 98.3537565669 3.60443142506 -117.402548113\n",
      "Fault offset variation: -236.592659585\n",
      "7    0.030968\n",
      "8    0.005327\n",
      "9   -0.020314\n",
      "Name: Z, dtype: float64\n",
      "7    0.030968\n",
      "8    0.005327\n",
      "9   -0.020314\n",
      "Name: Z, dtype: float64\n",
      "7    0.030968\n",
      "8    0.005327\n",
      "9   -0.020314\n",
      "Name: Z, dtype: float64\n",
      "7    0.030968\n",
      "8    0.005327\n",
      "9   -0.020314\n",
      "Name: Z, dtype: float64\n",
      "No maxima found for surface.\n",
      "SPILL POINT: [ 1360.           920.           831.34643555]\n",
      "LEAK SELF Z: 560.0\n",
      "JUXTA ABOVE: []\n",
      "SSF = 160.0 / 120.0 = 1.33333333333\n",
      "SSF in confidence range, complete shale smear sealing assumed.\n",
      "NUMBER OF TRAPS 3\n",
      "Checking Section: 10\n",
      "TRAP: 10\n",
      "Checking Section: 14\n",
      "Checking Section: 4\n",
      "Maximum trap volume: 24576000.0 m³\n",
      " [-----------------80%----------        ] 4 of 5 complete in 105.2 sec7    0.030968\n",
      "8    0.005327\n",
      "9   -0.020314\n",
      "Name: Z, dtype: float64\n",
      "Z variations top to bottom: -8.29091400361 -112.89181422 -206.739591285 20.9345390512\n",
      "Fault offset variation: -88.5745173892\n",
      "7    0.008257\n",
      "8   -0.017384\n",
      "9   -0.043026\n",
      "Name: Z, dtype: float64\n",
      "7    0.008257\n",
      "8   -0.017384\n",
      "9   -0.043026\n",
      "Name: Z, dtype: float64\n",
      "7    0.008257\n",
      "8   -0.017384\n",
      "9   -0.043026\n",
      "Name: Z, dtype: float64\n",
      "7    0.008257\n",
      "8   -0.017384\n",
      "9   -0.043026\n",
      "Name: Z, dtype: float64\n",
      "No maxima found for surface.\n",
      "SPILL POINT: [ 1360.           920.           831.34643555]\n",
      "LEAK SELF Z: 560.0\n",
      "JUXTA ABOVE: []\n",
      "SSF = 160.0 / 120.0 = 1.33333333333\n",
      "SSF in confidence range, complete shale smear sealing assumed.\n",
      "NUMBER OF TRAPS 3\n",
      "Checking Section: 10\n",
      "TRAP: 10\n",
      "Checking Section: 14\n",
      "Checking Section: 4\n",
      "Maximum trap volume: 24576000.0 m³\n",
      " [-----------------100%-----------------] 5 of 5 complete in 138.7 sec7    0.008257\n",
      "8   -0.017384\n",
      "9   -0.043026\n",
      "Name: Z, dtype: float64\n",
      "Z variations top to bottom: 85.9638664991 2.96869917317 -13.0047987873 117.850163441\n",
      "Fault offset variation: -64.7748000075\n",
      "7   -0.008352\n",
      "8   -0.033993\n",
      "9   -0.059634\n",
      "Name: Z, dtype: float64\n",
      "7   -0.008352\n",
      "8   -0.033993\n",
      "9   -0.059634\n",
      "Name: Z, dtype: float64\n",
      "7   -0.008352\n",
      "8   -0.033993\n",
      "9   -0.059634\n",
      "Name: Z, dtype: float64\n",
      "7   -0.008352\n",
      "8   -0.033993\n",
      "9   -0.059634\n",
      "Name: Z, dtype: float64\n",
      "No maxima found for surface.\n",
      "SPILL POINT: [ 1360.           920.           831.34643555]\n",
      "LEAK SELF Z: 560.0\n",
      "JUXTA ABOVE: []\n",
      "SSF = 160.0 / 120.0 = 1.33333333333\n",
      "SSF in confidence range, complete shale smear sealing assumed.\n",
      "NUMBER OF TRAPS 3\n",
      "Checking Section: 10\n",
      "TRAP: 10\n",
      "Checking Section: 14\n",
      "Checking Section: 4\n",
      "Maximum trap volume: 24576000.0 m³\n",
      " [--------------------120%---------------------] 6 of 5 complete in 173.7 sec"
     ]
    },
    {
     "data": {
      "image/png": "[encoded data removed]",
      "text/plain": [
       "<Figure size 748.8x514.8 with 1 Axes>"
      ]
     },
     "metadata": {},
     "output_type": "display_data"
    },
    {
     "data": {
      "image/png": "[encoded data removed]",
      "text/plain": [
       "<Figure size 748.8x514.8 with 1 Axes>"
      ]
     },
     "metadata": {},
     "output_type": "display_data"
    }
   ],
   "source": [
    "M = pymc.MCMC(model)\n",
    "#M = pymc.MCMC(model,db= \"hdf5\" , dbname= \"D:/PyMC_DataBase/prior_model_noBlocks_SSFc_3_1000iter_2017_11_12\")\n",
    "M.sample(iter=iterations)"
   ]
  },
  {
   "cell_type": "code",
   "execution_count": null,
   "metadata": {
    "collapsed": true
   },
   "outputs": [],
   "source": [
    "res_top_unc_trace = M.trace('z_unc_res_top')[:]\n",
    "offset_unc_trace = M.trace('offset_unc')[:]\n",
    "#fault_sealing_trace = M.trace('fault_sealing_unc')[:]\n",
    "interp_trace = M.trace('interp_unc')[:]\n",
    "#over_jux_area_trace = M.trace('over_jux_area')[:] \n",
    "\n",
    "#fw_res_th_trace = M.trace('res_th')[:]\n",
    "#fw_seal_th_trace = M.trace('seal_th')[:]\n",
    "#fw_sec_res_th_trace = M.trace('sec_res_th')[:]\n",
    "\n",
    "structural_model_trace = M.trace('structural_model')[:]\n",
    "max_volume_trace = structural_model_trace[:,2]\n",
    "SSF_trace = structural_model_trace[:,4]\n",
    "trap_control_trace = structural_model_trace[:,5]"
   ]
  },
  {
   "cell_type": "code",
   "execution_count": null,
   "metadata": {
    "collapsed": true,
    "scrolled": true
   },
   "outputs": [],
   "source": [
    "figsize(16, 6)\n",
    "\n",
    "# Possibly mask away complete failures:\n",
    "#volumes = max_volume_trace\n",
    "#mask = volumes == 0\n",
    "#masked_trace = volumes[~mask]\n",
    "\n",
    "_hist1 = plt.hist(max_volume_trace, bins=100, normed=True, \n",
    "                  histtype=\"stepfilled\",label=\"Prior volume distribution\", color = \"steelblue\")\n",
    "plt.vlines(max_volume_trace.mean(), 0, 1.1 * np.max(_hist1[0]), label=\"Prior volume mean\", linestyles=\"-.\", color = \"steelblue\")\n",
    "plt.vlines(np.median(max_volume_trace), 0, 1.1 * np.max(_hist1[0]), label=\"Prior volume median\", linestyles=\":\", color = \"steelblue\")\n",
    "plt.title(\"Prior trap volume distribution\")\n",
    "plt.legend(loc=\"upper right\")\n",
    "#plt.xticks(np.arange(0, np.max(_hist1[0])+1, np.max(_hist1[0])/10))\n",
    "plt.grid()\n",
    "plt.ylim(0, 1.1 * np.max(_hist1[0]))\n",
    "plt.xlabel(\"Volume [m³]\")\n",
    "plt.ylabel(\"Probability\")"
   ]
  },
  {
   "cell_type": "code",
   "execution_count": null,
   "metadata": {
    "collapsed": true
   },
   "outputs": [],
   "source": [
    "# INFORMATION ENTROPY FUNCTIONS\n",
    "def compute_prob_lith(lith_blocks):\n",
    "    \"\"\"Blocks must be just the lith blocks!\"\"\"\n",
    "    lith_id = np.unique(lith_blocks)\n",
    "    lith_count = np.zeros_like(lith_blocks[0:len(lith_id)])\n",
    "    for i, l_id in enumerate(lith_id):\n",
    "        lith_count[i] = np.sum(lith_blocks == l_id, axis=0)\n",
    "    lith_prob = lith_count / len(lith_blocks)\n",
    "    return lith_prob\n",
    "\n",
    "\n",
    "def calculate_ie_masked(lith_prob):\n",
    "    ie = np.zeros_like(lith_prob[0])\n",
    "    for l in lith_prob:\n",
    "        pm = np.ma.masked_equal(l, 0)  # mask where layer prob is 0\n",
    "        ie -= (pm * np.ma.log2(pm)).filled(0)\n",
    "    return ie\n",
    "\n",
    "\n",
    "def calculate_ie_total(ie, absolute=False):\n",
    "    if absolute:\n",
    "        return np.sum(ie)\n",
    "    else:\n",
    "        return np.sum(ie) / np.size(ie)"
   ]
  },
  {
   "cell_type": "code",
   "execution_count": null,
   "metadata": {
    "collapsed": true
   },
   "outputs": [],
   "source": [
    "lith_blocks = []\n",
    "for i in structural_model_trace[:]:\n",
    "    #print(i[0][0])\n",
    "    lith_blocks.append(i[0][0])\n",
    "\n",
    "lith_prob = compute_prob_lith(lith_blocks)\n",
    "i_entropy = calculate_ie_masked(lith_prob)"
   ]
  },
  {
   "cell_type": "code",
   "execution_count": null,
   "metadata": {
    "collapsed": true
   },
   "outputs": [],
   "source": [
    "#CUSTOM LOSS FUNCTION\n",
    "estimates_s = np.arange(0,60000000, 10000)\n",
    "\n",
    "# weight factors\n",
    "o = 1.25\n",
    "o_f = 2\n",
    "u_f = 1.5\n",
    "\n",
    "# risk factor range\n",
    "risks_s = np.arange(0.5, 1.6, 0.25)\n"
   ]
  },
  {
   "cell_type": "code",
   "execution_count": null,
   "metadata": {
    "collapsed": true
   },
   "outputs": [],
   "source": [
    "dm.expected_loss_plot(estimate_range=estimates_s,\n",
    "                      true_s=max_volume_trace,\n",
    "                      risk_range=risks_s,o=o,o_f=o_f,u_f=u_f)"
   ]
  },
  {
   "cell_type": "code",
   "execution_count": null,
   "metadata": {
    "collapsed": true
   },
   "outputs": [],
   "source": [
    "### LIKELIHOOD FUNCTIONS\n",
    "\n",
    "# THICKNESS LIKELIHOODS\n",
    "#Additional information, updating with likelihoods\n",
    "std1 = 30\n",
    "std2 = 30\n",
    "std3 = 30\n",
    "\n",
    "@pymc.stochastic\n",
    "def sec_res_th_likelihood(value = 0, sec_res_th=sec_res_th):\n",
    "    return pymc.normal_like(sec_res_th, 150., 1./np.square(std1))\n",
    "\n",
    "@pymc.stochastic\n",
    "def seal_th_likelihood(value = 0, seal_th=seal_th):\n",
    "    return pymc.normal_like(seal_th, 350., 1./np.square(std2))\n",
    "\n",
    "@pymc.stochastic\n",
    "def res_th_likelihood(value = 0, res_th=res_th):\n",
    "    return pymc.normal_like(res_th, 250., 1./np.square(std3))\n",
    "\n",
    "\n",
    "# SSF LIKELIHOOD\n",
    "@pymc.stochastic\n",
    "def SSF_likelihood(value = 0, SSF=structural_model[1]):\n",
    "    return pymc.normal_like(SSF, 3, 1./np.square(0.3))\n",
    "\n",
    "\n",
    "# JUXTAPOSITION AREA LIKELIHOOD (MOT USED)\n",
    "#jux_mean = 150000\n",
    "#jux_std = jux_mean/4\n",
    "#\n",
    "#@pymc.stochastic\n",
    "#def jux_area_likelihood(value = 0, oja= over_jux_area):\n",
    "#    return pymc.normal_like(over_jux_area, 150000., 1/np.square(jux_std))"
   ]
  },
  {
   "cell_type": "code",
   "execution_count": null,
   "metadata": {
    "collapsed": true,
    "scrolled": true
   },
   "outputs": [],
   "source": [
    "likelihoods = \"thickness\" # choose which likelihoods to use: \"thickness\", \"SSF\" or \"both\"\n",
    "\n",
    "if likelihoods == \"thickness\":\n",
    "    # Model inclucing only thickness likelihoods\n",
    "    model_L = pymc.Model([interp_unc, z_unc_res_top, z_unc_base_top, z_unc_seal_top, z_unc_secres_top, offset_unc,\n",
    "                        fault_sealing, structural_model, \n",
    "                        res_th, seal_th, sec_res_th, res_th_likelihood, seal_th_likelihood, sec_res_th_likelihood])\n",
    "elif likelihoods == \"SSF\":    \n",
    "    # Model including only SSF likelihood\n",
    "    model_L = pymc.Model([interp_unc, z_unc_res_top, z_unc_base_top, z_unc_seal_top, z_unc_secres_top, offset_unc,\n",
    "                        fault_sealing, structural_model, \n",
    "                        res_th, seal_th, sec_res_th, SSF_likelihood])\n",
    "elif likelihoods == \"both\":\n",
    "    model_L = pymc.Model([interp_unc, z_unc_res_top, z_unc_base_top, z_unc_seal_top, z_unc_secres_top, offset_unc,\n",
    "                        fault_sealing, structural_model, \n",
    "                        res_th, seal_th, sec_res_th, res_th_likelihood, seal_th_likelihood, \n",
    "                          sec_res_th_likelihood, SSF_likelihood])\n",
    "else:\n",
    "    print(\"Did not understand which likelihood functions to use.\")"
   ]
  },
  {
   "cell_type": "code",
   "execution_count": null,
   "metadata": {
    "collapsed": true
   },
   "outputs": [],
   "source": [
    "iterations=20"
   ]
  },
  {
   "cell_type": "code",
   "execution_count": null,
   "metadata": {
    "collapsed": true,
    "scrolled": true
   },
   "outputs": [],
   "source": [
    "M_L = pymc.MCMC(model_L)\n",
    "#M_L = pymc.MCMC(model_L,db= \"hdf5\" , dbname= \"D:/PyMC_DataBase/post_model_300_30-050_10-400_40_1000iter50burn.hdf5\")\n",
    "M_L.sample(iter=iterations, burn=0)"
   ]
  },
  {
   "cell_type": "code",
   "execution_count": null,
   "metadata": {
    "collapsed": true
   },
   "outputs": [],
   "source": [
    "#M_L.db.commit()\n",
    "#M_L.db.close()"
   ]
  },
  {
   "cell_type": "code",
   "execution_count": null,
   "metadata": {
    "collapsed": true
   },
   "outputs": [],
   "source": [
    "res_top_unc_trace_L = M_L.trace('z_unc_res_top')[:]\n",
    "offset_unc_trace_L = M_L.trace('offset_unc')[:]\n",
    "interp_trace_L = M_L.trace('interp_unc')[:]\n",
    "#over_jux_area_trace_L = M_L.trace('over_jux_area')[:] \n",
    "\n",
    "fw_res_th_trace_L = M_L.trace('res_th')[:]\n",
    "fw_seal_th_trace_L = M_L.trace('seal_th')[:]\n",
    "fw_sec_res_th_trace_L = M_L.trace('sec_res_th')[:]\n",
    "\n",
    "structural_model_trace_L = M_L.trace('structural_model')[:]\n",
    "max_volume_trace_L = structural_model_trace_L[:,2]\n",
    "SSF_trace_L = structural_model_trace_L[:,4]\n",
    "trap_control_trace_L = structural_model_trace_L[:,5]"
   ]
  },
  {
   "cell_type": "code",
   "execution_count": null,
   "metadata": {
    "collapsed": true,
    "scrolled": true
   },
   "outputs": [],
   "source": [
    "figsize(15,27)\n",
    "fig, ax = plt.subplots(4, 1)\n",
    "\n",
    "ax[0].plot(max_volume_trace, color='b', label='Trap volume')\n",
    "ax[0].set_title('Trap volume trace')\n",
    "ax[0].set_xlabel('Iteration')\n",
    "ax[0].set_ylabel('Volume [m³]')\n",
    "ax[0].legend(loc=\"upper left\")\n",
    "ax[0].grid()\n",
    "\n",
    "ax[1].plot(trap_control_trace, color='steelblue', label='Trap control mechanism')\n",
    "ax[1].set_title('Trap control mechanism')\n",
    "ax[1].set_xlabel('Iteration')\n",
    "ax[1].set_ylabel('Mechanism')\n",
    "ax[1].legend(loc=\"upper left\")\n",
    "ax[1].grid()\n",
    "\n",
    "ax[2].plot(fw_res_th_trace, color='steelblue', label='Reservoir thickness')\n",
    "ax[2].plot(fw_seal_th_trace, color='maroon', label='Seal thickness')\n",
    "ax[2].plot(fw_sec_res_th_trace, color='y', label='Overlying sandstone thickness')\n",
    "ax[2].plot(offset_unc_trace*rescale_f, color='r', label='Change in offset')\n",
    "ax[2].set_title('Juxtaposition area (with seal-overlying layers)')\n",
    "ax[2].set_xlabel('Iteration')\n",
    "ax[2].set_ylabel('Thickness [m]')\n",
    "ax[2].legend(loc=\"upper left\")\n",
    "ax[2].grid()\n",
    "\n",
    "ax[3].plot(SSF_trace, color='saddlebrown', label='SSF')\n",
    "ax[3].set_title('Shale Smear Factor')\n",
    "ax[3].set_xlabel('Iteration')\n",
    "ax[3].set_ylabel('SSF')\n",
    "ax[3].legend(loc=\"upper left\")\n",
    "ax[3].grid()\n",
    "\n",
    "#ax[4].plot(over_jux_area_trace, color='g', label='Juxtaposition area')\n",
    "#ax[4].set_title('Juxtaposition area (with seal-overlying layers)')\n",
    "#ax[4].set_xlabel('Iteration')\n",
    "#ax[4].set_ylabel('Area [m²]')\n",
    "#ax[4].legend(loc=\"upper left\")\n",
    "#ax[4].grid()"
   ]
  },
  {
   "cell_type": "code",
   "execution_count": null,
   "metadata": {
    "collapsed": true,
    "scrolled": true
   },
   "outputs": [],
   "source": [
    "figsize(15,27)\n",
    "fig, ax = plt.subplots(4, 1)\n",
    "\n",
    "ax[0].plot(max_volume_trace_L, color='b', label='Trap volume')\n",
    "ax[0].set_title('Trap volume trace')\n",
    "ax[0].set_xlabel('Iteration')\n",
    "ax[0].set_ylabel('Volume [m³]')\n",
    "ax[0].legend(loc=\"upper left\")\n",
    "ax[0].grid()\n",
    "\n",
    "ax[1].plot(trap_control_trace_L, color='steelblue', label='Trap control mechanism')\n",
    "ax[1].set_title('Trap control mechanism')\n",
    "ax[1].set_xlabel('Iteration')\n",
    "ax[1].set_ylabel('Mechanism')\n",
    "ax[1].legend(loc=\"upper left\")\n",
    "ax[1].grid()\n",
    "\n",
    "ax[2].plot(fw_res_th_trace_L, color='steelblue', label='Reservoir thickness')\n",
    "ax[2].plot(fw_seal_th_trace_L, color='maroon', label='Seal thickness')\n",
    "ax[2].plot(fw_sec_res_th_trace_L, color='y', label='Overlying sandstone thickness')\n",
    "ax[2].plot(offset_unc_trace_L*rescale_f, color='r', label='Change in offset')\n",
    "ax[2].set_title('Juxtaposition area (with seal-overlying layers)')\n",
    "ax[2].set_xlabel('Iteration')\n",
    "ax[2].set_ylabel('Thickness [m]')\n",
    "ax[2].legend(loc=\"upper left\")\n",
    "ax[2].grid()\n",
    "\n",
    "ax[3].plot(SSF_trace_L, color='saddlebrown', label='SSF')\n",
    "ax[3].set_title('Shale Smear Factor')\n",
    "ax[3].set_xlabel('Iteration')\n",
    "ax[3].set_ylabel('SSF')\n",
    "ax[3].legend(loc=\"upper left\")\n",
    "ax[3].grid()\n",
    "\n",
    "#ax[4].plot(over_jux_area_trace_L, color='g', label='Juxtaposition area')\n",
    "#ax[4].set_title('Juxtaposition area (with seal-overlying layers)')\n",
    "#ax[4].set_xlabel('Iteration')\n",
    "#ax[4].set_ylabel('Area [m²]')\n",
    "#ax[4].legend(loc=\"upper left\")\n",
    "#ax[4].grid()"
   ]
  },
  {
   "cell_type": "code",
   "execution_count": null,
   "metadata": {
    "collapsed": true
   },
   "outputs": [],
   "source": [
    "lith_blocks = []\n",
    "for i in structural_model_trace_L[:]:\n",
    "    #print(i[0][0])\n",
    "    lith_blocks.append(i[0][0])\n",
    "\n",
    "lith_prob = compute_prob_lith(lith_blocks)\n",
    "i_entropy = calculate_ie_masked(lith_prob)"
   ]
  },
  {
   "cell_type": "code",
   "execution_count": null,
   "metadata": {
    "collapsed": true
   },
   "outputs": [],
   "source": [
    "figsize(20,10)\n",
    "fig, ax = plt.subplots(1)\n",
    "plt.rc('xtick', labelsize=18) \n",
    "plt.rc('ytick', labelsize=18) \n",
    "plt.imshow(i_entropy.reshape(resolution,resolution,resolution)[:,resolution/2,:].T, origin=\"lower\", cmap=\"viridis\")\n",
    "plt.colorbar()"
   ]
  },
  {
   "cell_type": "code",
   "execution_count": null,
   "metadata": {
    "collapsed": true
   },
   "outputs": [],
   "source": [
    "dm.expected_loss_plot(estimate_range=estimates_s, true_s=max_volume_trace_L,\n",
    "                     risk_range=risks_s, o=o, o_f=o_f, u_f=u_f)"
   ]
  },
  {
   "cell_type": "code",
   "execution_count": null,
   "metadata": {
    "collapsed": true
   },
   "outputs": [],
   "source": [
    "# FOR EXPORTING TO USE IN PARAVIEW:\n",
    "export = False\n",
    "\n",
    "if export:\n",
    "    counter = 0\n",
    "    for i in structural_model_trace[:]:\n",
    "        counter+=1\n",
    "        #print(np.ascontiguousarray(i[3]))\n",
    "        gp.export_vtk_rectilinear(geo_data, np.ascontiguousarray(i[3]), path=\"./output_data/trap_volumes/14_11-TRAP_100iterUNC_PRIORonly_%s\" % (counter))\n",
    "        gp.export_vtk_rectilinear(geo_data, np.ascontiguousarray(i[0][0]), path=\"./output_data/lith_blocks/14_11-LITH_100iterUNC_PRIORonly_%s\" % (counter))"
   ]
  },
  {
   "cell_type": "code",
   "execution_count": null,
   "metadata": {
    "collapsed": true
   },
   "outputs": [],
   "source": [
    "#import graphviz\n",
    "#pymc.graph.dag(model)"
   ]
  },
  {
   "cell_type": "code",
   "execution_count": null,
   "metadata": {
    "collapsed": true
   },
   "outputs": [],
   "source": [
    "#sys.path.append(\"/home/bl9/Theses/Risk\\ analysis/Notebooks\")\n",
    "#graph = pymc.graph.graph(model)\n",
    "#graph.write_png()"
   ]
  }
 ],
 "metadata": {
  "kernelspec": {
   "display_name": "Python 3",
   "language": "python",
   "name": "python3"
  },
  "language_info": {
   "codemirror_mode": {
    "name": "ipython",
    "version": 3
   },
   "file_extension": ".py",
   "mimetype": "text/x-python",
   "name": "python",
   "nbconvert_exporter": "python",
   "pygments_lexer": "ipython3",
   "version": "3.5.5"
  }
 },
 "nbformat": 4,
 "nbformat_minor": 2
}
